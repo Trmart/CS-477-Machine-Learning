{
 "cells": [
  {
   "cell_type": "markdown",
   "metadata": {},
   "source": [
    " # Lecture 2: Python Data Types and Stuctures\n",
    " \n",
    " The lecture introduce and practice the Python data types and structures:\n",
    "   - [An overview](#section1)\n",
    "   - [Numeric types](#section2)\n",
    "   - [Strings](#section3)\n",
    "   - [Lists](#section4)\n",
    "   - [Dictionaries](#section5)\n",
    "   - [Tuples](#section6)\n",
    "   - [Sets](#section7)\n",
    "   \n",
    "In an informal sense, the purpose of programming is to solve problems by defining and performing operations on **data**.\n",
    "\n",
    "Data have different forms and units, e.g., grades (100 points), body weight (150.0 lbs), and temperature: 80$^{o} F$"
   ]
  },
  {
   "cell_type": "markdown",
   "metadata": {},
   "source": [
    "## 2.1. Overview of Python Core Data types and structures <a id = \"section 1\"/>\n",
    "1. Numbers\n",
    "\n",
    "```pyhton\n",
    "i = 2200000 # positive integer\n",
    "i1 = -1234   # negative integer\n",
    "f1 = 3.1415926 #float-point number\n",
    "```\n",
    "\n",
    "2. Strings\n",
    "```python\n",
    "str1 = 'Bruce Lee'\n",
    "```\n",
    "\n",
    "3. Lists\n",
    "```python\n",
    "l1 = [1, 2, 3.0]\n",
    "l2 = [1, 2.5, 'spam']\n",
    "```\n",
    "\n",
    "4. Dictionaries\n",
    "```python\n",
    "dic = {'Bruce': 100, 'Henry':, 80}\n",
    "```\n",
    "\n",
    "5. Tuples\n",
    "```python\n",
    "t = (100, 200)\n",
    "```\n",
    "6. Sets\n",
    "```python\n",
    "s = {100, 200, 300}\n",
    "```\n",
    "\n",
    "7. Files\n",
    "\n",
    "```python\n",
    "f = open('hello.txt')\n",
    "```"
   ]
  },
  {
   "cell_type": "markdown",
   "metadata": {},
   "source": [
    "#### Python is a **dynamically-typed** programming language\n",
    "- It does not need data type declarations and tracks data types automatically based on the expressions.\n",
    "\n",
    "```C++\n",
    "//C++ example\n",
    "int a; // type decalaration\n",
    "a = 5;\n",
    "```\n",
    "\n",
    "```python\n",
    "#python example\n",
    "a = 5\n",
    "```\n",
    "\n",
    "- Dynamic typing languages\n",
    "    - Pyhton, Perl, PHP, and JavaScript\n",
    "- Static typing languages\n",
    "    - Java, C, and C++"
   ]
  },
  {
   "cell_type": "markdown",
   "metadata": {},
   "source": [
    "## 2.2 Numbers and operations <a id=\"section2\"/>"
   ]
  },
  {
   "cell_type": "code",
   "execution_count": null,
   "metadata": {},
   "outputs": [],
   "source": [
    "#int\n"
   ]
  },
  {
   "cell_type": "code",
   "execution_count": 1,
   "metadata": {},
   "outputs": [],
   "source": [
    "#float\n"
   ]
  },
  {
   "cell_type": "code",
   "execution_count": 2,
   "metadata": {},
   "outputs": [],
   "source": [
    "f1 = 1e-2 # 10^2\n"
   ]
  },
  {
   "cell_type": "code",
   "execution_count": 3,
   "metadata": {},
   "outputs": [],
   "source": [
    "#types \n"
   ]
  },
  {
   "cell_type": "code",
   "execution_count": 8,
   "metadata": {},
   "outputs": [
    {
     "name": "stdout",
     "output_type": "stream",
     "text": [
      "5.551115123125783e-17\n",
      "f3 0.0\n"
     ]
    }
   ],
   "source": [
    "# display issue of float numbers\n",
    "f = 0.1 + 0.1 + 0.1\n",
    "f3 = f - 0.3\n",
    "\n",
    "print(f3)\n",
    "print(\"f3\", round(f3, 2))"
   ]
  },
  {
   "cell_type": "code",
   "execution_count": 4,
   "metadata": {},
   "outputs": [],
   "source": [
    "## covert\n"
   ]
  },
  {
   "cell_type": "markdown",
   "metadata": {},
   "source": [
    "Operations\n",
    "- Basic operations: +, -, \\*, /, ** , %(remainder), <, >, ==, etc.\n",
    "- Build-in mathematical functions: pow, abs, round, int, etc.\n",
    "- Other modules: math, random, etc. \n"
   ]
  },
  {
   "cell_type": "code",
   "execution_count": 5,
   "metadata": {},
   "outputs": [],
   "source": [
    "# practice \n"
   ]
  },
  {
   "cell_type": "code",
   "execution_count": null,
   "metadata": {},
   "outputs": [],
   "source": []
  },
  {
   "cell_type": "code",
   "execution_count": null,
   "metadata": {},
   "outputs": [],
   "source": []
  },
  {
   "cell_type": "markdown",
   "metadata": {},
   "source": [
    "- Build-in math operations\n",
    "\n",
    "- Build-in mathematical functions: pow, abs, round, int, etc\n",
    "   \n",
    "   -- we have used some buit-in functions in Python, e.g., round, and type. The functions are built into Python intepreter. We use use it and do not need to import any packages. Check the list of all built-in functions in Python:\n",
    "https://docs.python.org/3.8/library/functions.html"
   ]
  },
  {
   "cell_type": "code",
   "execution_count": 19,
   "metadata": {},
   "outputs": [
    {
     "name": "stdout",
     "output_type": "stream",
     "text": [
      "Help on built-in function pow in module builtins:\n",
      "\n",
      "pow(x, y, z=None, /)\n",
      "    Equivalent to x**y (with two arguments) or x**y % z (with three arguments)\n",
      "    \n",
      "    Some types, such as ints, are able to use a more efficient algorithm when\n",
      "    invoked using the three argument form.\n",
      "\n"
     ]
    }
   ],
   "source": [
    "help(pow) # check document to know how to use a function"
   ]
  },
  {
   "cell_type": "code",
   "execution_count": 20,
   "metadata": {},
   "outputs": [
    {
     "data": {
      "text/plain": [
       "3"
      ]
     },
     "execution_count": 20,
     "metadata": {},
     "output_type": "execute_result"
    }
   ],
   "source": [
    "# use the math module. https://docs.python.org/3.8/library/math.html#module-math\n",
    "import math\n",
    "\n",
    "math.floor(3.006)"
   ]
  },
  {
   "cell_type": "code",
   "execution_count": 30,
   "metadata": {},
   "outputs": [
    {
     "name": "stdout",
     "output_type": "stream",
     "text": [
      "0.8393134286718048\n"
     ]
    },
    {
     "data": {
      "text/plain": [
       "[4]"
      ]
     },
     "execution_count": 30,
     "metadata": {},
     "output_type": "execute_result"
    }
   ],
   "source": [
    "# https://docs.python.org/3.7/library/random.html#module-random\n",
    "import random\n",
    "\n",
    "r = random.random()\n",
    "print(r)\n",
    "\n",
    "random.choices([1, 2, 3, 4])"
   ]
  },
  {
   "cell_type": "markdown",
   "metadata": {},
   "source": [
    "## 2.3. Strings and operations <a id=\"section3\"/>"
   ]
  },
  {
   "cell_type": "code",
   "execution_count": 6,
   "metadata": {},
   "outputs": [],
   "source": [
    "#create string\n"
   ]
  },
  {
   "cell_type": "code",
   "execution_count": 7,
   "metadata": {},
   "outputs": [],
   "source": [
    "# string with '"
   ]
  },
  {
   "cell_type": "code",
   "execution_count": 8,
   "metadata": {},
   "outputs": [],
   "source": [
    "# + concatenates two strings\n",
    "s1 = 'Python'\n",
    "s2 = 'programming'\n",
    "\n"
   ]
  },
  {
   "cell_type": "code",
   "execution_count": 9,
   "metadata": {},
   "outputs": [],
   "source": [
    "#repetition\n"
   ]
  },
  {
   "cell_type": "code",
   "execution_count": 11,
   "metadata": {},
   "outputs": [],
   "source": [
    "# len\n"
   ]
  },
  {
   "cell_type": "code",
   "execution_count": 29,
   "metadata": {
    "scrolled": true
   },
   "outputs": [
    {
     "data": {
      "text/plain": [
       "['__add__',\n",
       " '__class__',\n",
       " '__contains__',\n",
       " '__delattr__',\n",
       " '__dir__',\n",
       " '__doc__',\n",
       " '__eq__',\n",
       " '__format__',\n",
       " '__ge__',\n",
       " '__getattribute__',\n",
       " '__getitem__',\n",
       " '__getnewargs__',\n",
       " '__gt__',\n",
       " '__hash__',\n",
       " '__init__',\n",
       " '__init_subclass__',\n",
       " '__iter__',\n",
       " '__le__',\n",
       " '__len__',\n",
       " '__lt__',\n",
       " '__mod__',\n",
       " '__mul__',\n",
       " '__ne__',\n",
       " '__new__',\n",
       " '__reduce__',\n",
       " '__reduce_ex__',\n",
       " '__repr__',\n",
       " '__rmod__',\n",
       " '__rmul__',\n",
       " '__setattr__',\n",
       " '__sizeof__',\n",
       " '__str__',\n",
       " '__subclasshook__',\n",
       " 'capitalize',\n",
       " 'casefold',\n",
       " 'center',\n",
       " 'count',\n",
       " 'encode',\n",
       " 'endswith',\n",
       " 'expandtabs',\n",
       " 'find',\n",
       " 'format',\n",
       " 'format_map',\n",
       " 'index',\n",
       " 'isalnum',\n",
       " 'isalpha',\n",
       " 'isascii',\n",
       " 'isdecimal',\n",
       " 'isdigit',\n",
       " 'isidentifier',\n",
       " 'islower',\n",
       " 'isnumeric',\n",
       " 'isprintable',\n",
       " 'isspace',\n",
       " 'istitle',\n",
       " 'isupper',\n",
       " 'join',\n",
       " 'ljust',\n",
       " 'lower',\n",
       " 'lstrip',\n",
       " 'maketrans',\n",
       " 'partition',\n",
       " 'replace',\n",
       " 'rfind',\n",
       " 'rindex',\n",
       " 'rjust',\n",
       " 'rpartition',\n",
       " 'rsplit',\n",
       " 'rstrip',\n",
       " 'split',\n",
       " 'splitlines',\n",
       " 'startswith',\n",
       " 'strip',\n",
       " 'swapcase',\n",
       " 'title',\n",
       " 'translate',\n",
       " 'upper',\n",
       " 'zfill']"
      ]
     },
     "execution_count": 29,
     "metadata": {},
     "output_type": "execute_result"
    }
   ],
   "source": [
    "# check all operation for string\n",
    "dir(s1)"
   ]
  },
  {
   "cell_type": "markdown",
   "metadata": {},
   "source": [
    "## 2.4 Lists <a id=\"section4\"/>\n",
    "In Python, lists are the most flexible ordered built-in collection object type.\n",
    "```python\n",
    "    L = [1, 2, 3, 5] # a list example\n",
    "```\n",
    "#### 1. Major properties :\n",
    "(1) Ordered collections of arbitrary objects: a left-to-right positional ordering of the items.\n",
    "\n",
    "(2) Access by offset; fetch an item by indexing the list on the object's offset\n",
    "\n",
    "(3) Variable length: can grow and shrink in place\n",
    "\n",
    "(4) **Mutable**\n",
    "\n",
    "(5) Lists are arrays (in standard Python interpreter)\n",
    "\n",
    "#### 2. List Operations\n",
    "\n",
    "(1) length: len(L)\n",
    "\n",
    "(2) concatenation: +, L.extend(another list)\n",
    "\n",
    "(3) repetition: *\n",
    "\n",
    "(4) membership: 1 in L\n",
    " \n",
    "(5) deletion: del L[0] or L[0] = []\n",
    "\n",
    "(6) insertion\n",
    "\n",
    "(7) replacement\n",
    "\n",
    "(8) iteration and comprehensions\n",
    "\n",
    "(9) Matrix"
   ]
  },
  {
   "cell_type": "code",
   "execution_count": 12,
   "metadata": {},
   "outputs": [],
   "source": [
    "#(1) Ordered collections of arbitrary objects: a left-to-right positional ordering of the items.\n"
   ]
  },
  {
   "cell_type": "code",
   "execution_count": 13,
   "metadata": {},
   "outputs": [],
   "source": [
    "# extra\n",
    "\n"
   ]
  },
  {
   "cell_type": "code",
   "execution_count": 14,
   "metadata": {},
   "outputs": [],
   "source": [
    "#(2) Access by offset; fetch an item by indexing the list on the object's offset\n",
    "#index: L[i] for 1d, L[i][j] for 2d\n"
   ]
  },
  {
   "cell_type": "code",
   "execution_count": 15,
   "metadata": {},
   "outputs": [],
   "source": [
    "#(3) Variable length: can grow and shrink in place\n"
   ]
  },
  {
   "cell_type": "code",
   "execution_count": 16,
   "metadata": {},
   "outputs": [],
   "source": [
    "#(4) Mutable\n",
    "\n",
    "\n",
    "#shrink\n"
   ]
  },
  {
   "cell_type": "code",
   "execution_count": 17,
   "metadata": {},
   "outputs": [],
   "source": [
    "#(5) -(7)\n"
   ]
  },
  {
   "cell_type": "code",
   "execution_count": 18,
   "metadata": {},
   "outputs": [],
   "source": [
    "# (8) \n",
    "#List iteration and comprehensions\n",
    "\n",
    "\n",
    "# comprehensions build a new list by applying an expression\n",
    "# i**2\n"
   ]
  },
  {
   "cell_type": "markdown",
   "metadata": {},
   "source": [
    "#### Tips"
   ]
  },
  {
   "cell_type": "code",
   "execution_count": 2,
   "metadata": {},
   "outputs": [
    {
     "name": "stdout",
     "output_type": "stream",
     "text": [
      "L is:  [1, 2, 3.5] L1 is: [1, 2, 3.5]\n",
      "L is:  [-1, 2, 3.5] L1 is: [-1, 2, 3.5]\n"
     ]
    }
   ],
   "source": [
    "#practice 1\n",
    "L = [1, 2, 3.5]\n",
    "L1 = L\n",
    "print(\"L is: \", L, \"L1 is:\", L1)\n",
    "\n",
    "L1[0] = -1\n",
    "print(\"L is: \", L, \"L1 is:\", L1)"
   ]
  },
  {
   "cell_type": "code",
   "execution_count": 4,
   "metadata": {},
   "outputs": [
    {
     "name": "stdout",
     "output_type": "stream",
     "text": [
      "L is:  [1, 2, 3.5] L1 is: [1, 2, 3.5]\n",
      "L is:  [1, 2, 3.5] L1 is: [-1, 2, 3.5]\n"
     ]
    }
   ],
   "source": [
    "#practice 2 \n",
    "L = [1, 2, 3.5]\n",
    "L1 = L.copy() # deep copy\n",
    "print(\"L is: \", L, \"L1 is:\", L1)\n",
    "\n",
    "L1[0] = -1\n",
    "print(\"L is: \", L, \"L1 is:\", L1)"
   ]
  },
  {
   "cell_type": "code",
   "execution_count": 5,
   "metadata": {},
   "outputs": [
    {
     "name": "stdout",
     "output_type": "stream",
     "text": [
      "L is:  [1, 2, 3.5] L1 is: [1, 2, 3.5]\n",
      "L is:  [1, 2, 3.5] L1 is: [-1, 2, 3.5]\n"
     ]
    }
   ],
   "source": [
    "# extra practice 3 \n",
    "L = [1, 2, 3.5]\n",
    "L1 = L[:] # slicing will create a new list\n",
    "print(\"L is: \", L, \"L1 is:\", L1)\n",
    "\n",
    "L1[0] = -1\n",
    "print(\"L is: \", L, \"L1 is:\", L1)"
   ]
  },
  {
   "cell_type": "code",
   "execution_count": null,
   "metadata": {},
   "outputs": [],
   "source": [
    "# extra practice 4 \n",
    "L = [1, 2, 3.5]\n",
    "L1 = list(L) # list() constructor will alsio create a new list\n",
    "print(\"L is: \", L, \"L1 is:\", L1)\n",
    "\n",
    "L1[0] = -1\n",
    "print(\"L is: \", L, \"L1 is:\", L1)"
   ]
  },
  {
   "cell_type": "markdown",
   "metadata": {},
   "source": [
    "(2) Memory management in python\n",
    "\n",
    "     Stack              private heap\n",
    "List name(references)-->List content\n",
    "\n",
    "L1 = L only copies refences, and L and L1 point to the same contend on the heap\n",
    "\n",
    "Tip: use 'is' operator to test if two objects are physically the same"
   ]
  },
  {
   "cell_type": "markdown",
   "metadata": {},
   "source": [
    "#### For larger datasets, we may need to use numPy."
   ]
  },
  {
   "cell_type": "markdown",
   "metadata": {},
   "source": [
    "## 2.5 Dictionary creation and operations <a id=\"section5\"/>\n",
    "\n",
    "Flexible unordered built-in collection object type. Items are sorted and fetched by *key* instead of by positional offset.\n",
    "```python\n",
    "    D = {'name': 'Tim', 'age': 22}\n",
    "    print(D)\n",
    "\n",
    "    print(D['name']) # (1) accessed by key\n",
    "    D['age'] = 23 # (4) mutable\n",
    "    print(D)\n",
    "```\n",
    "#### Main properties\n",
    "(1) accessed by key\n",
    "\n",
    "(2) unsorted collections of arbitrary objects\n",
    "\n",
    "(3) variable-length\n",
    "\n",
    "(4) **mutable**\n",
    "\n",
    "(5) implemented as hash tables\n",
    "\n",
    "#### Dict operations\n",
    "(1) length,: len()\n",
    "\n",
    "(2) membership: in\n",
    "\n",
    "(3) get keys: list(D.keys())\n",
    "\n",
    "(4) deletion: D.pop(key), del D[key]\n",
    "\n",
    "(5) comprehensions"
   ]
  },
  {
   "cell_type": "code",
   "execution_count": null,
   "metadata": {},
   "outputs": [],
   "source": []
  },
  {
   "cell_type": "code",
   "execution_count": 19,
   "metadata": {},
   "outputs": [],
   "source": [
    "# (5) comprehensions\n"
   ]
  },
  {
   "cell_type": "markdown",
   "metadata": {},
   "source": [
    "## 2.6 Tuples <a id=\"section6\" />\n",
    ">A tuple is a collection of objects which is **ordered and immutable**, and it is commonly written as a series of items in **parentheses** ()\n",
    "\n",
    "#### Main properties\n",
    "(1) Ordered collections of arbitrary objects: a left-to-right positional ordering of the items.\n",
    "\n",
    "(2) Access by offset; fetch an item by indexing the list on the object's offset\n",
    "\n",
    "(3) fixed-length\n",
    "\n",
    "(4) **immutable**\n",
    "\n",
    "(5) tuples are arrays"
   ]
  },
  {
   "cell_type": "code",
   "execution_count": 6,
   "metadata": {},
   "outputs": [],
   "source": [
    "# Creating a tuple\n",
    "\n"
   ]
  },
  {
   "cell_type": "code",
   "execution_count": 20,
   "metadata": {},
   "outputs": [],
   "source": [
    "# Show the created tuple\n"
   ]
  },
  {
   "cell_type": "code",
   "execution_count": 21,
   "metadata": {},
   "outputs": [],
   "source": [
    "# Check the length of the tuple using len(), just like a list\n"
   ]
  },
  {
   "cell_type": "code",
   "execution_count": 22,
   "metadata": {},
   "outputs": [],
   "source": [
    "# We can also mix object types: e.g., strings, integer numbers, floating-point numbers\n",
    "\n"
   ]
  },
  {
   "cell_type": "code",
   "execution_count": 23,
   "metadata": {},
   "outputs": [],
   "source": [
    "# Tuples, lists or dictionaries can be nested into other tuples\n"
   ]
  },
  {
   "cell_type": "code",
   "execution_count": 24,
   "metadata": {},
   "outputs": [],
   "source": [
    "# An empty tuple\n"
   ]
  },
  {
   "cell_type": "code",
   "execution_count": 25,
   "metadata": {},
   "outputs": [],
   "source": [
    "# A 1-item tuple\n"
   ]
  },
  {
   "cell_type": "code",
   "execution_count": 26,
   "metadata": {},
   "outputs": [],
   "source": [
    "#The parentheses () can be omitted in the syntax, and tuples can be created just by listing items separated with commas\n"
   ]
  },
  {
   "cell_type": "code",
   "execution_count": null,
   "metadata": {},
   "outputs": [],
   "source": [
    "# Use indexing just like in lists and strings\n"
   ]
  },
  {
   "cell_type": "code",
   "execution_count": null,
   "metadata": {},
   "outputs": [],
   "source": [
    "# Slicing\n"
   ]
  },
  {
   "cell_type": "code",
   "execution_count": 27,
   "metadata": {},
   "outputs": [],
   "source": [
    "# Concatenation\n"
   ]
  },
  {
   "cell_type": "code",
   "execution_count": 28,
   "metadata": {},
   "outputs": [],
   "source": [
    "# Repetition\n"
   ]
  },
  {
   "cell_type": "code",
   "execution_count": 29,
   "metadata": {},
   "outputs": [],
   "source": [
    "# Immutability\n",
    "# If we try to change the first element, we will get an error message\n"
   ]
  },
  {
   "cell_type": "code",
   "execution_count": null,
   "metadata": {},
   "outputs": [],
   "source": []
  },
  {
   "cell_type": "markdown",
   "metadata": {},
   "source": [
    "## 2.7 Sets <a id=\"section6\" />\n",
    ">  A ***set*** is a collection of unique objects which is unordered and immutable, and are constructed by using the set() function.\n",
    "\n",
    "Sets support operations corresponding to mathematical set theory (intersection, union, etc.). By definition, an item appears only once in a set, no matter how many times it is added. \n",
    "\n",
    "Because sets are collections of objects, they share some behavior with lists and dictionaries. For example, sets are iterable, can grow and shrink on demand, and may contain a variety of object types. \n",
    "\n",
    "However, since sets are unordered and do not map keys to values, they are neither a sequence or mapping type.\n",
    "\n",
    "Sets have a variety of applications, especially in numeric and database-focused work."
   ]
  },
  {
   "cell_type": "code",
   "execution_count": 25,
   "metadata": {},
   "outputs": [
    {
     "name": "stdout",
     "output_type": "stream",
     "text": [
      "{'e', 'c', 'a', 'b', 'd'} {'z', 'y', 'x', 'b', 'd'}\n"
     ]
    },
    {
     "data": {
      "text/plain": [
       "{'a', 'c', 'e'}"
      ]
     },
     "execution_count": 25,
     "metadata": {},
     "output_type": "execute_result"
    }
   ],
   "source": [
    "x = set('abcde')\n",
    "y = set('bdxyz')\n",
    "\n",
    "print(x, y)\n",
    "# Difference\n",
    "x - y"
   ]
  },
  {
   "cell_type": "code",
   "execution_count": 26,
   "metadata": {},
   "outputs": [
    {
     "data": {
      "text/plain": [
       "{'a', 'b', 'c', 'd', 'e', 'x', 'y', 'z'}"
      ]
     },
     "execution_count": 26,
     "metadata": {},
     "output_type": "execute_result"
    }
   ],
   "source": [
    "# Union\n",
    "x | y"
   ]
  },
  {
   "cell_type": "code",
   "execution_count": 27,
   "metadata": {},
   "outputs": [
    {
     "data": {
      "text/plain": [
       "{'b', 'd'}"
      ]
     },
     "execution_count": 27,
     "metadata": {},
     "output_type": "execute_result"
    }
   ],
   "source": [
    "# Intersection\n",
    "x & y"
   ]
  },
  {
   "cell_type": "code",
   "execution_count": 29,
   "metadata": {},
   "outputs": [
    {
     "data": {
      "text/plain": [
       "True"
      ]
     },
     "execution_count": 29,
     "metadata": {},
     "output_type": "execute_result"
    }
   ],
   "source": [
    "# Superset, subset\n",
    "x1 = set('abc')\n",
    "y1 = set('abcd')\n",
    "\n",
    "x1<y1 # if x is the subset of y"
   ]
  },
  {
   "cell_type": "code",
   "execution_count": 30,
   "metadata": {},
   "outputs": [
    {
     "data": {
      "text/plain": [
       "True"
      ]
     },
     "execution_count": 30,
     "metadata": {},
     "output_type": "execute_result"
    }
   ],
   "source": [
    "# Membership of a set\n",
    "'a' in x1"
   ]
  },
  {
   "cell_type": "code",
   "execution_count": 31,
   "metadata": {},
   "outputs": [
    {
     "name": "stdout",
     "output_type": "stream",
     "text": [
      "{1}\n",
      "{1, 2}\n",
      "{1, 2}\n"
     ]
    }
   ],
   "source": [
    "z = set()\n",
    "# Add to set with the add() method\n",
    "z.add(1)\n",
    "print(z)\n",
    "# Add a different element\n",
    "z.add(2)\n",
    "print(z)\n",
    "# Try to add the same element\n",
    "z.add(1)\n",
    "print(z)"
   ]
  },
  {
   "cell_type": "code",
   "execution_count": 34,
   "metadata": {},
   "outputs": [
    {
     "ename": "KeyError",
     "evalue": "'a'",
     "output_type": "error",
     "traceback": [
      "\u001b[1;31m---------------------------------------------------------------------------\u001b[0m",
      "\u001b[1;31mKeyError\u001b[0m                                  Traceback (most recent call last)",
      "\u001b[1;32m<ipython-input-34-ae7f708c7dc8>\u001b[0m in \u001b[0;36m<module>\u001b[1;34m\u001b[0m\n\u001b[0;32m      1\u001b[0m \u001b[1;31m# Delete one item\u001b[0m\u001b[1;33m\u001b[0m\u001b[1;33m\u001b[0m\u001b[1;33m\u001b[0m\u001b[0m\n\u001b[1;32m----> 2\u001b[1;33m \u001b[0mz\u001b[0m\u001b[1;33m.\u001b[0m\u001b[0mremove\u001b[0m\u001b[1;33m(\u001b[0m\u001b[1;34m'a'\u001b[0m\u001b[1;33m)\u001b[0m\u001b[1;33m\u001b[0m\u001b[1;33m\u001b[0m\u001b[0m\n\u001b[0m\u001b[0;32m      3\u001b[0m \u001b[0mz\u001b[0m\u001b[1;33m\u001b[0m\u001b[1;33m\u001b[0m\u001b[0m\n",
      "\u001b[1;31mKeyError\u001b[0m: 'a'"
     ]
    }
   ],
   "source": [
    "# Delete one item\n",
    "z.remove('a') \n",
    "z"
   ]
  },
  {
   "cell_type": "code",
   "execution_count": null,
   "metadata": {},
   "outputs": [],
   "source": []
  }
 ],
 "metadata": {
  "kernelspec": {
   "display_name": "Python 3 (ipykernel)",
   "language": "python",
   "name": "python3"
  },
  "language_info": {
   "codemirror_mode": {
    "name": "ipython",
    "version": 3
   },
   "file_extension": ".py",
   "mimetype": "text/x-python",
   "name": "python",
   "nbconvert_exporter": "python",
   "pygments_lexer": "ipython3",
   "version": "3.8.8"
  }
 },
 "nbformat": 4,
 "nbformat_minor": 4
}
