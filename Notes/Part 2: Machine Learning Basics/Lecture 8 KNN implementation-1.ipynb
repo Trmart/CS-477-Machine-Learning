{
 "cells": [
  {
   "cell_type": "code",
   "execution_count": 29,
   "id": "872bb1ce",
   "metadata": {},
   "outputs": [
    {
     "name": "stdout",
     "output_type": "stream",
     "text": [
      "(150, 4) (150,)\n",
      "training set (120, 4) (120,)\n",
      "test set (30, 4) (30,)\n"
     ]
    }
   ],
   "source": [
    "import numpy as np\n",
    "from sklearn import datasets as ds\n",
    "from sklearn.model_selection import train_test_split # split dataset into train and test sets\n",
    "\n",
    "# 1. Data preparation\n",
    "iris = ds.load_iris()\n",
    "X = iris.data # feature vectors\n",
    "y = iris.target\n",
    "\n",
    "print(X.shape, y.shape)\n",
    "X_train, X_test, y_train, y_test =train_test_split(X, y, test_size = 0.2) # test_size % of test set\n",
    "\n",
    "print('training set', X_train.shape, y_train.shape)\n",
    "print('test set', X_test.shape, y_test.shape)"
   ]
  },
  {
   "cell_type": "code",
   "execution_count": 30,
   "id": "6a5d8629",
   "metadata": {},
   "outputs": [],
   "source": [
    "# 2. Model training\n",
    "# KNN is an instance-based algorithm, and \n",
    "# it does not have the actual training\n"
   ]
  },
  {
   "cell_type": "code",
   "execution_count": 31,
   "id": "09d8c573",
   "metadata": {},
   "outputs": [],
   "source": [
    "# 3. Prediction and evaluation\n",
    "# evaluation metric: error rate : % of data samples missclassified\n",
    "\n",
    "# prediction: 1) find the K nearest neighbors; 2)voting to predict"
   ]
  },
  {
   "cell_type": "code",
   "execution_count": 32,
   "id": "da045754",
   "metadata": {},
   "outputs": [
    {
     "name": "stdout",
     "output_type": "stream",
     "text": [
      "[4.9 3.  1.4 0.2]\n",
      "[[ 29]\n",
      " [ 67]\n",
      " [110]\n",
      " [  3]\n",
      " [106]]\n"
     ]
    }
   ],
   "source": [
    "#1) find the k nns for an input data sample\n",
    "def findKNgbrs(x_star, X_train, K = 5):\n",
    "    '''find K nearest neighbors for a given data sample in X_train\n",
    "        \n",
    "        input:\n",
    "            x_star: new data sample. Shape 1 by 4\n",
    "            X_train:\n",
    "        return:\n",
    "            K nearest neighbors\n",
    "    '''\n",
    "    # calculate the Euclidean distance \n",
    "    n = X_train.shape[0] # number of data samples in X_train\n",
    "    dis = np.zeros((n, 1)) # initialize n 0 distances\n",
    "    inx = 0\n",
    "    for x in X_train:\n",
    "        d = np.sqrt(np.sum((x_star-x)*(x_star-x)))\n",
    "        dis[inx] = d\n",
    "        inx = inx + 1\n",
    "        \n",
    "    # find the k nearest neighbors using a sorting algorithm\n",
    "    ind = np.argsort(dis, axis = 0)\n",
    "    \n",
    "    return ind[:K] # return the indices for the K nns\n",
    "\n",
    "x_star = X_test[0]\n",
    "print(x_star)\n",
    "k_inx = findKNgbrs(x_star, X_train, K=5)\n",
    "print(k_inx)"
   ]
  },
  {
   "cell_type": "code",
   "execution_count": 33,
   "id": "4c0764e4",
   "metadata": {},
   "outputs": [],
   "source": [
    "#prediction function\n",
    "def prediction(x_train, x_test, y_train, k):\n",
    "    \"\"\"\n",
    "    x_test: a single test sample\n",
    "    x_train: training set\n",
    "    y_train: training labels\n",
    "    k: number of nearest neighbors\n",
    "\n",
    "    return: predicted label\n",
    "    \"\"\"\n",
    "    y_pred = np.zeros(len(x_test.shape[0]))\n",
    "    \n",
    "    for i in range(len(x_test)):\n",
    "\n",
    "        k_inx = findKNgbrs(i, x_train, k)\n",
    "        k_labels = y_train[k_inx]\n",
    "        counts = np.bincount(k_labels.reshape((5,)), minlength = 2)\n",
    "        y_pred[i] = np.argmax(counts)\n",
    "    \n",
    "    return y_pred"
   ]
  },
  {
   "cell_type": "code",
   "execution_count": 34,
   "id": "7c283fc4",
   "metadata": {},
   "outputs": [
    {
     "name": "stdout",
     "output_type": "stream",
     "text": [
      "[[0]\n",
      " [0]\n",
      " [0]\n",
      " [0]\n",
      " [0]]\n",
      "[5 0]\n",
      "the prediction is 0\n"
     ]
    }
   ],
   "source": [
    "# prediction\n",
    "# check the class lables of the k nns\n",
    "k_labels = y_train[k_inx]\n",
    "print(k_labels)\n",
    "#print(k_labels.reshape(5,))\n",
    "\n",
    "counts = np.bincount(k_labels.reshape((5,)), minlength = 2)\n",
    "print(counts)\n",
    "\n",
    "y_pred =np.argmax(counts)\n",
    "print('the prediction is', y_pred)"
   ]
  },
  {
   "cell_type": "code",
   "execution_count": 35,
   "id": "6324a4f2",
   "metadata": {},
   "outputs": [],
   "source": [
    "# afterclass practice\n",
    "#1. how do we calculate the predictions for all test data samples\n",
    "\n",
    "\n",
    "#2. calculate the error rate on the test set\n",
    "# try to use differnt K\n"
   ]
  },
  {
   "cell_type": "code",
   "execution_count": 36,
   "id": "9cb70cd6",
   "metadata": {},
   "outputs": [],
   "source": [
    "#4. model persistance\n",
    "\n"
   ]
  }
 ],
 "metadata": {
  "kernelspec": {
   "display_name": "Python 3",
   "language": "python",
   "name": "python3"
  },
  "language_info": {
   "codemirror_mode": {
    "name": "ipython",
    "version": 3
   },
   "file_extension": ".py",
   "mimetype": "text/x-python",
   "name": "python",
   "nbconvert_exporter": "python",
   "pygments_lexer": "ipython3",
   "version": "3.10.6"
  },
  "vscode": {
   "interpreter": {
    "hash": "916dbcbb3f70747c44a77c7bcd40155683ae19c65e1c03b4aa3499c5328201f1"
   }
  }
 },
 "nbformat": 4,
 "nbformat_minor": 5
}
