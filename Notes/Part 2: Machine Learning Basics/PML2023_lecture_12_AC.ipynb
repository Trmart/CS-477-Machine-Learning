{
 "cells": [
  {
   "cell_type": "markdown",
   "metadata": {},
   "source": [
    "# Lecture 12: Use logistic regression\n",
    "## Agenda\n",
    "1. Model training of Logistic Regression\n",
    "2. sklearn.linear_model.LogisticRegression\n",
    "3. A realistic example: breast cancer detection\n",
    "4. Search prameters using GridSearchCV\n"
   ]
  },
  {
   "cell_type": "markdown",
   "metadata": {},
   "source": [
    "### 1. Model training of logistic regression\n",
    "\n",
    "1. Training set. Data sampels: X_train = {$x_1, x_2, ..., x_i, ..., x_m$}. Target (class labels):Y_train = {$y_1, y_2, ..., y_i, ..., y_m$}\n",
    "    \n",
    "2. Predicted class probability in logistic regression:\n",
    "\n",
    "\\begin{equation*} \n",
    "    \\hat{y_i} = 1/(1+exp-(w_0 + w_1*x_{i,1} + ,..., +w_n*x_{i,n}))\n",
    "\\end{equation*}    \n",
    "    where $w_0, w_1,...,w_n$ are the linear model parameters, and $ x_{i,0}, x_{i,1}..., x_{i,n}$ are the features of the ith data feature vector $x_i$\n",
    "\n",
    "3. Cost/loss function of the logistic regression: the criterion to quantitatively evaluate how good the current model is (the less the better).\n",
    "\\begin{equation*}\n",
    "    J(w) = -C [\\sum_{i=1}^m (y_i \\times log(\\hat{y_i}) + (1-y_i) \\times log(1-\\hat{y_i}))] \n",
    "\\end{equation*}\n",
    "    - In the above equation, $\\hat{y_i}$  and  $y_i$ are the predicted class lable and the true class label of data sample $x_i$.\n",
    "    - P is the penalty/regularizer, and C controls the contribution of P. There are three typical options of P: L1 norm ($ \\|w\\|_1$), L2 norm ($\\frac{1}{2}w^T w$) and elstic-Net($\\frac{1 - \\rho}{2}w^T w + \\rho \\|w\\|_1$)\n",
    "    \n",
    "4. Model training is to use an 'optimization algorithm' to find the best $w$ that can minimize the loss function $J(w)$. Refer to the gradient descent algorithm in the Other Learning materials for more information.\n"
   ]
  },
  {
   "cell_type": "markdown",
   "metadata": {},
   "source": [
    "### 2. The sklearn.linear_model.LogisticRegression class\n",
    "\n",
    "1. class introduction: Key attributes (e.g., C, and penalty)and methods (fit, predict, predict_proba, and score)\n",
    "    - https://scikit-learn.org/stable/modules/generated/sklearn.linear_model.LogisticRegression.html#\n",
    "    \n",
    "2. source code\n",
    "    - https://github.com/scikit-learn/scikit-learn/blob/b194674c4/sklearn/linear_model/_logistic.py#L1191"
   ]
  },
  {
   "cell_type": "markdown",
   "metadata": {},
   "source": [
    "### 3. Breast cancer detection using logistic regression\n",
    "\n",
    "1. Dataset\n",
    "\n",
    "    :Number of data samples: 569\n",
    "    \n",
    "    :Number of features: 30 numeric. The first 10 features were directly calculated using mean feautues of all nuclei in an image\n",
    "    \n",
    "    :Class labels\n",
    "        : Malignant\n",
    "        : Benign\n",
    "        \n",
    "    https://scikit-learn.org/stable/datasets/index.html#breast-cancer-dataset\n",
    "    \n",
    "    "
   ]
  },
  {
   "cell_type": "code",
   "execution_count": 5,
   "metadata": {},
   "outputs": [],
   "source": [
    "# load the data set\n",
    "import sklearn.datasets as ds\n",
    "from sklearn.linear_model import LogisticRegression\n",
    "from sklearn.model_selection import train_test_split\n",
    "\n",
    "X, y = ds.load_breast_cancer(return_X_y=True) # a simplified data loading approach\n",
    "X_train, X_test, y_train, y_test = train_test_split(X, y, test_size = 0.20, random_state = 0)"
   ]
  },
  {
   "cell_type": "code",
   "execution_count": 7,
   "metadata": {},
   "outputs": [
    {
     "name": "stderr",
     "output_type": "stream",
     "text": [
      "C:\\Users\\Min\\anaconda3\\lib\\site-packages\\sklearn\\linear_model\\_logistic.py:763: ConvergenceWarning: lbfgs failed to converge (status=1):\n",
      "STOP: TOTAL NO. of ITERATIONS REACHED LIMIT.\n",
      "\n",
      "Increase the number of iterations (max_iter) or scale the data as shown in:\n",
      "    https://scikit-learn.org/stable/modules/preprocessing.html\n",
      "Please also refer to the documentation for alternative solver options:\n",
      "    https://scikit-learn.org/stable/modules/linear_model.html#logistic-regression\n",
      "  n_iter_i = _check_optimize_result(\n"
     ]
    },
    {
     "data": {
      "text/plain": [
       "LogisticRegression(random_state=0)"
      ]
     },
     "execution_count": 7,
     "metadata": {},
     "output_type": "execute_result"
    }
   ],
   "source": [
    "# create and train a logistic regression model\n",
    "logit_clf = LogisticRegression(random_state=0)\n",
    "logit_clf.fit(X_train, y_train)"
   ]
  },
  {
   "cell_type": "code",
   "execution_count": 17,
   "metadata": {},
   "outputs": [
    {
     "data": {
      "text/plain": [
       "array([1, 1, 1, 1, 1])"
      ]
     },
     "execution_count": 17,
     "metadata": {},
     "output_type": "execute_result"
    }
   ],
   "source": [
    "# use the trained model to predict class labels (after thresholding) for the first 5 training samples\n",
    "logit_clf.predict(X_train[:5])"
   ]
  },
  {
   "cell_type": "code",
   "execution_count": 15,
   "metadata": {},
   "outputs": [
    {
     "data": {
      "text/plain": [
       "array([[0.01158019, 0.98841981]])"
      ]
     },
     "execution_count": 15,
     "metadata": {},
     "output_type": "execute_result"
    }
   ],
   "source": [
    "# use the trained model to output the probability estimates (after thresholding) of the first 5 training samples\n",
    "logit_clf.predict_proba(X_train[:1])"
   ]
  },
  {
   "cell_type": "code",
   "execution_count": 16,
   "metadata": {},
   "outputs": [
    {
     "name": "stdout",
     "output_type": "stream",
     "text": [
      "0.9516483516483516 0.9473684210526315\n",
      "0.9516483516483516 0.9473684210526315\n"
     ]
    }
   ],
   "source": [
    "# model evaulation\n",
    "y_train_pred = logit_clf.predict(X_train)\n",
    "y_test_pred = logit_clf.predict(X_test)\n",
    "train_acc = sum(y_train_pred==y_train)/y_train_pred.shape[0]\n",
    "test_acc = sum(y_test_pred==y_test)/y_test_pred.shape[0]\n",
    "print(train_acc, test_acc)\n",
    "\n",
    "# use the score() function\n",
    "train_acc = logit_clf.score(X_train, y_train)\n",
    "test_acc = logit_clf.score(X_test, y_test)\n",
    "print(train_acc, test_acc)"
   ]
  },
  {
   "cell_type": "markdown",
   "metadata": {},
   "source": [
    "### 4. Parameter searching using GridSearchCV\n",
    "1. Tune the hyperparameter searching, penalty and C, to achieve the best performance: k-fold validation + parameter searching: GridSearchCV\n",
    "2. Retrain the model use the best parameters\n"
   ]
  },
  {
   "cell_type": "code",
   "execution_count": 57,
   "metadata": {},
   "outputs": [
    {
     "name": "stdout",
     "output_type": "stream",
     "text": [
      "Fitting 3 folds for each of 14 candidates, totalling 42 fits\n"
     ]
    },
    {
     "name": "stderr",
     "output_type": "stream",
     "text": [
      "[Parallel(n_jobs=1)]: Done  42 out of  42 | elapsed:   13.7s finished\n"
     ]
    },
    {
     "data": {
      "text/plain": [
       "GridSearchCV(cv=3, error_score='raise',\n",
       "       estimator=LogisticRegression(C=1.0, class_weight=None, dual=False, fit_intercept=True,\n",
       "          intercept_scaling=1, max_iter=100, multi_class='ovr', n_jobs=1,\n",
       "          penalty='l2', random_state=0, solver='liblinear', tol=0.0001,\n",
       "          verbose=0, warm_start=False),\n",
       "       fit_params=None, iid=True, n_jobs=1,\n",
       "       param_grid={'penalty': ['l2', 'l1'], 'C': [0.001, 0.01, 0.1, 1, 10, 100, 1000]},\n",
       "       pre_dispatch='2*n_jobs', refit=True, return_train_score='warn',\n",
       "       scoring='accuracy', verbose=1)"
      ]
     },
     "execution_count": 57,
     "metadata": {},
     "output_type": "execute_result"
    }
   ],
   "source": [
    "from sklearn.model_selection import GridSearchCV\n",
    "\n",
    "rs = 1\n",
    "X,y = ds.load_breast_cancer(return_X_y=True)\n",
    "y = abs(y - 1) # 1--> 0, 0 --> 1\n",
    "\n",
    "X_train, X_test, y_train, y_test = train_test_split(X, y, test_size = 0.15, random_state = rs)\n",
    "\n",
    "rs = 0\n",
    "logitR = LogisticRegression(random_state = rs)\n",
    "\n",
    "param_grid = {\n",
    "            'penalty' : ['l2','l1'],  \n",
    "            'C' : [0.001, 0.01, 0.1, 1, 10, 100, 1000]}\n",
    "\n",
    "clf = GridSearchCV(estimator = logitR, cv = 3, param_grid = param_grid , scoring = 'accuracy', verbose = 1)\n",
    "clf.fit(X_train, y_train)"
   ]
  },
  {
   "cell_type": "code",
   "execution_count": 59,
   "metadata": {
    "scrolled": true
   },
   "outputs": [
    {
     "name": "stdout",
     "output_type": "stream",
     "text": [
      "mean test scores:  [ 0.92132505  0.91718427  0.92546584  0.91925466  0.93167702  0.92339545\n",
      "  0.93995859  0.94824017  0.94409938  0.95031056  0.94616977  0.96273292\n",
      "  0.94824017  0.95445135]\n",
      "best score:  0.962732919255\n",
      "best  parameters:  {'C': 100, 'penalty': 'l1'}\n",
      "best  parameters:  make_scorer(accuracy_score)\n"
     ]
    }
   ],
   "source": [
    "# Parameters and methods in GridSearchCV class\n",
    "clf.cv_results_  # output the results (average and all folds)\n",
    "print('mean test scores: ', clf.cv_results_['mean_test_score']) # average test score on all folds\n",
    "print('best score: ', clf.best_score_)\n",
    "print('best  parameters: ', clf.best_params_)\n",
    "print('best  parameters: ', clf.scorer_)"
   ]
  },
  {
   "cell_type": "code",
   "execution_count": 60,
   "metadata": {
    "collapsed": true
   },
   "outputs": [],
   "source": [
    "# methods of class GridSearchCV\n",
    "# fit(X,y) # train models for all combinations of parameters using k-fold cross-validation\n",
    "# predict(X,y) # use the model with the best found parameter\n"
   ]
  },
  {
   "cell_type": "code",
   "execution_count": 61,
   "metadata": {
    "collapsed": true
   },
   "outputs": [],
   "source": [
    "# Questions:\n",
    "# 1. how can we keep recall ratio = 1 and increase the precison\n",
    "# 2. why do we do K-fold CV on the training set"
   ]
  }
 ],
 "metadata": {
  "kernelspec": {
   "display_name": "Python 3 (ipykernel)",
   "language": "python",
   "name": "python3"
  },
  "language_info": {
   "codemirror_mode": {
    "name": "ipython",
    "version": 3
   },
   "file_extension": ".py",
   "mimetype": "text/x-python",
   "name": "python",
   "nbconvert_exporter": "python",
   "pygments_lexer": "ipython3",
   "version": "3.8.8"
  }
 },
 "nbformat": 4,
 "nbformat_minor": 2
}
